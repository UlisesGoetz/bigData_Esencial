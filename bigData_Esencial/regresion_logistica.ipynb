{
 "cells": [
  {
   "cell_type": "code",
   "execution_count": 1,
   "id": "1582e12d",
   "metadata": {},
   "outputs": [],
   "source": [
    "import pandas as pd\n",
    "import numpy as np\n",
    "from sklearn.linear_model import LogisticRegression\n",
    "from sklearn.metrics import confusion_matrix\n",
    "import matplotlib.pyplot as pit\n",
    "df= pd.read_csv(\"C:/Users/Mr.R/Downloads/archivos_base_python_data_science_big_data_esencial/base_datos_2008.csv\",nrows=1000000)"
   ]
  },
  {
   "cell_type": "code",
   "execution_count": 2,
   "id": "e447e5f3",
   "metadata": {},
   "outputs": [],
   "source": [
    "df = df.dropna(subset=[\"ArrDelay\"])\n",
    "df = df.sample(frac=1).head(100000)\n",
    "Y=df[\"ArrDelay\"]<30\n",
    "X=df[[\"DepDelay\"]]"
   ]
  },
  {
   "cell_type": "code",
   "execution_count": 3,
   "id": "a9a21799",
   "metadata": {},
   "outputs": [],
   "source": [
    "logreg = LogisticRegression()\n",
    "logreg.fit(X,Y)\n",
    "Y_pred=logreg.predict(X)"
   ]
  },
  {
   "cell_type": "code",
   "execution_count": 4,
   "id": "6bc896ce",
   "metadata": {},
   "outputs": [
    {
     "data": {
      "text/plain": [
       "array([[0.012, 0.988],\n",
       "       [0.013, 0.987],\n",
       "       [0.994, 0.006],\n",
       "       ...,\n",
       "       [0.112, 0.888],\n",
       "       [0.999, 0.001],\n",
       "       [0.006, 0.994]])"
      ]
     },
     "execution_count": 4,
     "metadata": {},
     "output_type": "execute_result"
    }
   ],
   "source": [
    "np.round(logreg.predict_proba(X),3)"
   ]
  },
  {
   "cell_type": "code",
   "execution_count": 5,
   "id": "8bf02156",
   "metadata": {},
   "outputs": [
    {
     "data": {
      "text/plain": [
       "0.95054"
      ]
     },
     "execution_count": 5,
     "metadata": {},
     "output_type": "execute_result"
    }
   ],
   "source": [
    "np.mean(Y_pred == Y)"
   ]
  },
  {
   "cell_type": "code",
   "execution_count": 6,
   "id": "6e683f91",
   "metadata": {},
   "outputs": [
    {
     "data": {
      "text/plain": [
       "0.83927"
      ]
     },
     "execution_count": 6,
     "metadata": {},
     "output_type": "execute_result"
    }
   ],
   "source": [
    "np.mean(Y)"
   ]
  },
  {
   "cell_type": "code",
   "execution_count": 7,
   "id": "2fad070a",
   "metadata": {},
   "outputs": [
    {
     "name": "stdout",
     "output_type": "stream",
     "text": [
      "[[12410  3663]\n",
      " [ 1283 82644]]\n"
     ]
    }
   ],
   "source": [
    "confusion_matrix=confusion_matrix(Y,Y_pred)\n",
    "print(confusion_matrix)"
   ]
  },
  {
   "cell_type": "code",
   "execution_count": null,
   "id": "4990ccaf",
   "metadata": {},
   "outputs": [],
   "source": []
  }
 ],
 "metadata": {
  "kernelspec": {
   "display_name": "Python 3",
   "language": "python",
   "name": "python3"
  },
  "language_info": {
   "codemirror_mode": {
    "name": "ipython",
    "version": 3
   },
   "file_extension": ".py",
   "mimetype": "text/x-python",
   "name": "python",
   "nbconvert_exporter": "python",
   "pygments_lexer": "ipython3",
   "version": "3.8.8"
  }
 },
 "nbformat": 4,
 "nbformat_minor": 5
}

{
 "cells": [
  {
   "cell_type": "code",
   "execution_count": 2,
   "id": "c9594823",
   "metadata": {},
   "outputs": [],
   "source": [
    "import pandas as pd\n",
    "import numpy as np\n",
    "from sklearn.neighbors import KNeighborsClassifier\n",
    "from sklearn.metrics import confusion_matrix\n",
    "import matplotlib.pyplot as pit\n",
    "df= pd.read_csv(\"C:/Users/Mr.R/Downloads/archivos_base_python_data_science_big_data_esencial/base_datos_2008.csv\",nrows=1000000)"
   ]
  },
  {
   "cell_type": "code",
   "execution_count": 4,
   "id": "df3b1269",
   "metadata": {},
   "outputs": [],
   "source": [
    "newdf = df[[\"AirTime\",\"Distance\",\"TaxiOut\",\"ArrDelay\"]].dropna()\n",
    "cols=newdf[newdf.columns[newdf.columns != \"ArrDelay\"]]"
   ]
  },
  {
   "cell_type": "code",
   "execution_count": 5,
   "id": "cda5391a",
   "metadata": {},
   "outputs": [],
   "source": [
    "filtro = newdf[\"ArrDelay\"]>10"
   ]
  },
  {
   "cell_type": "code",
   "execution_count": 6,
   "id": "0cb08c0c",
   "metadata": {},
   "outputs": [],
   "source": [
    "newdf[\"ArrDelay\"][filtro]=\"Delayed\"\n",
    "newdf[\"ArrDelay\"][filtro==False]=\"Not Delayed\""
   ]
  },
  {
   "cell_type": "code",
   "execution_count": 7,
   "id": "9ae5d4fc",
   "metadata": {},
   "outputs": [
    {
     "data": {
      "text/plain": [
       "0    Not Delayed\n",
       "1    Not Delayed\n",
       "2        Delayed\n",
       "3    Not Delayed\n",
       "4        Delayed\n",
       "Name: ArrDelay, dtype: object"
      ]
     },
     "execution_count": 7,
     "metadata": {},
     "output_type": "execute_result"
    }
   ],
   "source": [
    "newdf[\"ArrDelay\"].head()"
   ]
  },
  {
   "cell_type": "code",
   "execution_count": 8,
   "id": "73d74bec",
   "metadata": {},
   "outputs": [],
   "source": [
    "nbrs_3=KNeighborsClassifier(n_neighbors=3,n_jobs=-1)"
   ]
  },
  {
   "cell_type": "code",
   "execution_count": 9,
   "id": "865e7192",
   "metadata": {},
   "outputs": [
    {
     "data": {
      "text/plain": [
       "KNeighborsClassifier(n_jobs=-1, n_neighbors=3)"
      ]
     },
     "execution_count": 9,
     "metadata": {},
     "output_type": "execute_result"
    }
   ],
   "source": [
    "nbrs_3.fit(cols,newdf[\"ArrDelay\"])"
   ]
  },
  {
   "cell_type": "code",
   "execution_count": 10,
   "id": "d4073921",
   "metadata": {},
   "outputs": [],
   "source": [
    "predicciones_3=nbrs_3.predict(cols)"
   ]
  },
  {
   "cell_type": "code",
   "execution_count": 11,
   "id": "87f8d196",
   "metadata": {},
   "outputs": [
    {
     "data": {
      "text/plain": [
       "0.8040059625362947"
      ]
     },
     "execution_count": 11,
     "metadata": {},
     "output_type": "execute_result"
    }
   ],
   "source": [
    "np.mean(predicciones_3==newdf[\"ArrDelay\"])"
   ]
  },
  {
   "cell_type": "code",
   "execution_count": 12,
   "id": "976132fa",
   "metadata": {},
   "outputs": [
    {
     "data": {
      "text/plain": [
       "0.0"
      ]
     },
     "execution_count": 12,
     "metadata": {},
     "output_type": "execute_result"
    }
   ],
   "source": [
    "np.mean(newdf[\"ArrDelay\"]==\"Not Delay\")"
   ]
  },
  {
   "cell_type": "code",
   "execution_count": null,
   "id": "e39ae1c8",
   "metadata": {},
   "outputs": [],
   "source": []
  }
 ],
 "metadata": {
  "kernelspec": {
   "display_name": "Python 3",
   "language": "python",
   "name": "python3"
  },
  "language_info": {
   "codemirror_mode": {
    "name": "ipython",
    "version": 3
   },
   "file_extension": ".py",
   "mimetype": "text/x-python",
   "name": "python",
   "nbconvert_exporter": "python",
   "pygments_lexer": "ipython3",
   "version": "3.8.8"
  }
 },
 "nbformat": 4,
 "nbformat_minor": 5
}

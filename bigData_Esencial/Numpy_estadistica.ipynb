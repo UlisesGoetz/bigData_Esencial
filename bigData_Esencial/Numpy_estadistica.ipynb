{
 "cells": [
  {
   "cell_type": "code",
   "execution_count": 1,
   "id": "e321b9e1",
   "metadata": {},
   "outputs": [],
   "source": [
    "import numpy as np"
   ]
  },
  {
   "cell_type": "code",
   "execution_count": 9,
   "id": "16c83d34",
   "metadata": {},
   "outputs": [
    {
     "data": {
      "text/plain": [
       "array([[  8,  54,  84,  61,   2],\n",
       "       [ 84,  61, 561,  13,   1],\n",
       "       [ 48,  46,  12,   3,   6]])"
      ]
     },
     "execution_count": 9,
     "metadata": {},
     "output_type": "execute_result"
    }
   ],
   "source": [
    "valoraciones = np.array([[8,54,84,61,2],[84,61,561,13,1],[48,46,12,3,6]])\n",
    "valoraciones"
   ]
  },
  {
   "cell_type": "code",
   "execution_count": 11,
   "id": "30d1779b",
   "metadata": {},
   "outputs": [
    {
     "data": {
      "text/plain": [
       "561"
      ]
     },
     "execution_count": 11,
     "metadata": {},
     "output_type": "execute_result"
    }
   ],
   "source": [
    "valoraciones[1][2]"
   ]
  },
  {
   "cell_type": "code",
   "execution_count": 16,
   "id": "69d4bed3",
   "metadata": {},
   "outputs": [
    {
     "data": {
      "text/plain": [
       "array([[[  8,  54,  84,  61,   2,   5],\n",
       "        [ 84,  61, 561,  13,   1,  45],\n",
       "        [ 48,  46,  12,   3,   6, 345]],\n",
       "\n",
       "       [[  8,  54,  84,  61,   2,   5],\n",
       "        [ 84,  61, 691,  13,   1,  45],\n",
       "        [ 48,  46,  12,   3,   6, 345]]])"
      ]
     },
     "execution_count": 16,
     "metadata": {},
     "output_type": "execute_result"
    }
   ],
   "source": [
    "valoraciones2 = np.array([[[8,54,84,61,2,5],[84,61,561,13,1,45],[48,46,12,3,6,345]],[[8,54,84,61,2,5],[84,61,691,13,1,45],[48,46,12,3,6,345]]])\n",
    "valoraciones2"
   ]
  },
  {
   "cell_type": "code",
   "execution_count": 17,
   "id": "f4d8a1f0",
   "metadata": {},
   "outputs": [
    {
     "data": {
      "text/plain": [
       "691"
      ]
     },
     "execution_count": 17,
     "metadata": {},
     "output_type": "execute_result"
    }
   ],
   "source": [
    "valoraciones2[1,1,2]"
   ]
  },
  {
   "cell_type": "code",
   "execution_count": 19,
   "id": "59e2c8be",
   "metadata": {},
   "outputs": [
    {
     "data": {
      "text/plain": [
       "array([[[0., 0., 0., 0.],\n",
       "        [0., 0., 0., 0.]],\n",
       "\n",
       "       [[0., 0., 0., 0.],\n",
       "        [0., 0., 0., 0.]],\n",
       "\n",
       "       [[0., 0., 0., 0.],\n",
       "        [0., 0., 0., 0.]]])"
      ]
     },
     "execution_count": 19,
     "metadata": {},
     "output_type": "execute_result"
    }
   ],
   "source": [
    "np.zeros((3,2,4))"
   ]
  },
  {
   "cell_type": "code",
   "execution_count": 21,
   "id": "28f85d4a",
   "metadata": {},
   "outputs": [
    {
     "data": {
      "text/plain": [
       "array([[[  9.,  55.,  85.,  62.,   3.,   6.],\n",
       "        [ 85.,  62., 562.,  14.,   2.,  46.],\n",
       "        [ 49.,  47.,  13.,   4.,   7., 346.]],\n",
       "\n",
       "       [[  9.,  55.,  85.,  62.,   3.,   6.],\n",
       "        [ 85.,  62., 692.,  14.,   2.,  46.],\n",
       "        [ 49.,  47.,  13.,   4.,   7., 346.]]])"
      ]
     },
     "execution_count": 21,
     "metadata": {},
     "output_type": "execute_result"
    }
   ],
   "source": [
    "valoraciones2 + np.ones((2,3,6))"
   ]
  },
  {
   "cell_type": "code",
   "execution_count": 22,
   "id": "ee99a116",
   "metadata": {},
   "outputs": [
    {
     "data": {
      "text/plain": [
       "83.55555555555556"
      ]
     },
     "execution_count": 22,
     "metadata": {},
     "output_type": "execute_result"
    }
   ],
   "source": [
    "np.mean(valoraciones2)"
   ]
  },
  {
   "cell_type": "code",
   "execution_count": 25,
   "id": "c28e70ae",
   "metadata": {},
   "outputs": [
    {
     "data": {
      "text/plain": [
       "array([[ 35.66666667, 127.5       ,  76.66666667],\n",
       "       [ 35.66666667, 149.16666667,  76.66666667]])"
      ]
     },
     "execution_count": 25,
     "metadata": {},
     "output_type": "execute_result"
    }
   ],
   "source": [
    "np.mean(valoraciones2,axis=2)"
   ]
  },
  {
   "cell_type": "code",
   "execution_count": 26,
   "id": "211d5aa7",
   "metadata": {},
   "outputs": [
    {
     "data": {
      "text/plain": [
       "array([[0.76245264, 0.10904423, 0.85410832, 0.89607353, 0.79996621],\n",
       "       [0.47608362, 0.1002912 , 0.05770691, 0.60198396, 0.57605117]])"
      ]
     },
     "execution_count": 26,
     "metadata": {},
     "output_type": "execute_result"
    }
   ],
   "source": [
    "np.random.rand(2,5)"
   ]
  },
  {
   "cell_type": "code",
   "execution_count": null,
   "id": "b4a359dd",
   "metadata": {},
   "outputs": [],
   "source": []
  }
 ],
 "metadata": {
  "kernelspec": {
   "display_name": "Python 3",
   "language": "python",
   "name": "python3"
  },
  "language_info": {
   "codemirror_mode": {
    "name": "ipython",
    "version": 3
   },
   "file_extension": ".py",
   "mimetype": "text/x-python",
   "name": "python",
   "nbconvert_exporter": "python",
   "pygments_lexer": "ipython3",
   "version": "3.8.8"
  }
 },
 "nbformat": 4,
 "nbformat_minor": 5
}
